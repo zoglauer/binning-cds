{
 "cells": [
  {
   "cell_type": "code",
   "execution_count": 1,
   "metadata": {},
   "outputs": [],
   "source": [
    "import sys\n",
    "import os\n",
    "import pandas as pd\n",
    "import pickle\n",
    "\n",
    "sys.path.append(os.path.join(os.path.dirname(sys.path[0]),\"binning\"))\n",
    "from binner import Binner\n",
    "\n",
    "filepath = \"/Users/samhitaghosh/Downloads/Academics/URAP/FlatContinuumIsotropic.inc500.id1.tra.gz.pkl\"\n",
    "binny = Binner(filepath)"
   ]
  },
  {
   "cell_type": "code",
   "execution_count": 2,
   "metadata": {},
   "outputs": [
    {
     "name": "stdout",
     "output_type": "stream",
     "text": [
      "     Event ID    Energy  Theta  Phi  Scatter Angle  Path Length (cm)  \\\n",
      "0      980000  511.1127    0.0  0.0      15.436946             0.800   \n",
      "1      944068  237.5881    0.0  0.0      88.736412             0.300   \n",
      "2      637682  511.1357    0.0  0.0      21.809131             0.300   \n",
      "3      397849  501.6993    0.0  0.0      38.679210             0.500   \n",
      "4      773607  503.5620    0.0  0.0      58.422310             1.100   \n",
      "..        ...       ...    ...  ...            ...               ...   \n",
      "295    689070  491.9070    0.0  0.0      46.379785             0.400   \n",
      "296     17561  248.9509    0.0  0.0      62.133076             0.300   \n",
      "297    825642  510.0300    0.0  0.0      58.869135             0.912   \n",
      "298    842567  511.0140    0.0  0.0      44.876710             0.600   \n",
      "299    479402  498.7707    0.0  0.0      21.634082             0.300   \n",
      "\n",
      "     Theta Bin  Phi Bin  Scatter Angle Bin  \n",
      "0    18.074455     -0.0          19.172016  \n",
      "1    18.074455     -0.0         100.291897  \n",
      "2    18.074455     -0.0          23.231247  \n",
      "3    18.074455     -0.0          39.837891  \n",
      "4    18.074455     -0.0          58.698739  \n",
      "..         ...      ...                ...  \n",
      "295  18.074455     -0.0          48.715656  \n",
      "296  18.074455     -0.0          63.103340  \n",
      "297  18.074455     -0.0          63.103340  \n",
      "298  18.074455     -0.0          45.751298  \n",
      "299  18.074455     -0.0          23.231247  \n",
      "\n",
      "[300 rows x 9 columns]\n",
      "Runtime:  15.087253093719482\n"
     ]
    }
   ],
   "source": [
    "binny.bin3D()"
   ]
  },
  {
   "cell_type": "code",
   "execution_count": 3,
   "metadata": {},
   "outputs": [
    {
     "data": {
      "text/plain": [
       "[[0.0, 18.074454837604087],\n",
       " [18.074454837604087, 22.38711832039141],\n",
       " [22.38722934498091, 26.565051177077695],\n",
       " [26.565051177077695, 30.316544448763896],\n",
       " [30.316563727729747, 34.181639309887224],\n",
       " [34.181802509229236, 37.87498365109786],\n",
       " [37.87498365109786, 41.907387202432226],\n",
       " [41.90748755280737, 45.8682507879686],\n",
       " [45.8682507879686, 50.23784084819375],\n",
       " [50.237840848193784, 54.78824332965898],\n",
       " [54.78824332965904, 60.30469146996568],\n",
       " [60.30494972387071, 67.1215084234624],\n",
       " [67.12234244018319, 74.63860461026891],\n",
       " [74.63860461026891, 83.28888473063074],\n",
       " [83.28888473063074, 91.13559080333299],\n",
       " [91.13559080333299, 102.60438264837849],\n",
       " [102.60438264837849, 112.5495639220137],\n",
       " [112.5495639220137, 124.93161498581489],\n",
       " [124.93161498581489, 140.36033347604362],\n",
       " [140.3621020333853, 180.0]]"
      ]
     },
     "execution_count": 3,
     "metadata": {},
     "output_type": "execute_result"
    }
   ],
   "source": [
    "binny.getBinBounds(n=20, column=\"Theta\")"
   ]
  },
  {
   "cell_type": "code",
   "execution_count": null,
   "metadata": {},
   "outputs": [],
   "source": []
  }
 ],
 "metadata": {
  "kernelspec": {
   "display_name": "cosiURAP",
   "language": "python",
   "name": "python3"
  },
  "language_info": {
   "codemirror_mode": {
    "name": "ipython",
    "version": 3
   },
   "file_extension": ".py",
   "mimetype": "text/x-python",
   "name": "python",
   "nbconvert_exporter": "python",
   "pygments_lexer": "ipython3",
   "version": "3.10.4"
  },
  "orig_nbformat": 4
 },
 "nbformat": 4,
 "nbformat_minor": 2
}
