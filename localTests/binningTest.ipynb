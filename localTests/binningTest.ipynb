{
 "cells": [
  {
   "cell_type": "code",
   "execution_count": 1,
   "metadata": {},
   "outputs": [],
   "source": [
    "import sys\n",
    "import os\n",
    "import pandas as pd\n",
    "import pickle\n",
    "\n",
    "sys.path.append(os.path.join(os.path.dirname(sys.path[0]),\"binning\"))\n",
    "from binner import Binner\n",
    "\n",
    "filepath = \"/Users/samhitaghosh/Downloads/Academics/URAP/FlatContinuumIsotropic.inc500.id1.tra.gz.pkl\"\n",
    "binny = Binner(filepath)"
   ]
  },
  {
   "cell_type": "code",
   "execution_count": 2,
   "metadata": {},
   "outputs": [
    {
     "name": "stdout",
     "output_type": "stream",
     "text": [
      "   Event ID    Energy       Theta         Phi  Scatter Angle  Path Length (cm)\n",
      "0         2  510.7032   17.715472  -26.565051      23.194178          0.734847\n",
      "1         3  509.0841   33.866744  -41.843943      34.896802          1.882973\n",
      "2         4  509.5130   54.035806  -57.030596      51.884375          5.448853\n",
      "3         5  503.2880   57.109902  -84.805571      57.907547          9.207606\n",
      "4         6  494.8160   94.475571  -74.875993     102.310961          3.844477\n",
      "5         7  510.3860  144.505521 -109.903117     136.447020          0.505913\n",
      "6         8  239.9762   34.048700   -0.000000      87.984682          2.321854\n",
      "7        12  510.4800  137.968886 -123.690068      53.357907          0.538516\n",
      "8        13  500.4869   23.803859  107.354025      24.373807          4.153312\n",
      "9        14  511.6120   34.496237   14.036243      31.381513          0.728011\n",
      "        Event ID    Energy  Theta  Phi  Scatter Angle  Path Length (cm)\n",
      "586259    980000  511.1127    0.0  0.0      15.436946               0.8\n",
      "564717    944068  237.5881    0.0  0.0      88.736412               0.3\n",
      "381700    637682  511.1357    0.0  0.0      21.809131               0.3\n",
      "238357    397849  501.6993    0.0  0.0      38.679210               0.5\n",
      "462766    773607  503.5620    0.0  0.0      58.422310               1.1\n",
      "238360    397852  511.5850    0.0  0.0      59.311671               0.3\n",
      "15505      25862  511.2710    0.0  0.0      58.106873               0.4\n",
      "382843    639619  509.6630    0.0  0.0      52.624476               0.4\n",
      "325780    543916  510.7880    0.0  0.0      71.499104               1.3\n",
      "180518    301344  511.2240    0.0  0.0      59.088514               0.5\n",
      "Runtime 0.08750510215759277\n"
     ]
    }
   ],
   "source": [
    "binny.bin(5)"
   ]
  },
  {
   "cell_type": "code",
   "execution_count": null,
   "metadata": {},
   "outputs": [],
   "source": []
  }
 ],
 "metadata": {
  "kernelspec": {
   "display_name": "cosiURAP",
   "language": "python",
   "name": "python3"
  },
  "language_info": {
   "codemirror_mode": {
    "name": "ipython",
    "version": 3
   },
   "file_extension": ".py",
   "mimetype": "text/x-python",
   "name": "python",
   "nbconvert_exporter": "python",
   "pygments_lexer": "ipython3",
   "version": "3.10.4"
  },
  "orig_nbformat": 4
 },
 "nbformat": 4,
 "nbformat_minor": 2
}
