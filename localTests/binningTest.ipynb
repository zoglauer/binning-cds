{
 "cells": [
  {
   "cell_type": "code",
   "execution_count": 2,
   "metadata": {},
   "outputs": [],
   "source": [
    "import sys\n",
    "import os\n",
    "import pandas as pd\n",
    "import pickle\n",
    "\n",
    "sys.path.append(os.path.join(os.path.dirname(sys.path[0]),\"binning\"))\n",
    "from binner import Binner\n",
    "\n",
    "filepath = \"/Users/samhitaghosh/Downloads/Academics/URAP/FlatContinuumIsotropic.inc500.id1.tra.gz.pkl\"\n",
    "binny = Binner(filepath)"
   ]
  },
  {
   "cell_type": "code",
   "execution_count": 3,
   "metadata": {},
   "outputs": [
    {
     "name": "stdout",
     "output_type": "stream",
     "text": [
      "    index  Event ID    Energy  Theta  Phi  Scatter Angle  Path Length (cm)\n",
      "0  586259    980000  511.1127    0.0  0.0      15.436946               0.8\n",
      "1  564717    944068  237.5881    0.0  0.0      88.736412               0.3\n",
      "2  381700    637682  511.1357    0.0  0.0      21.809131               0.3\n",
      "3  238357    397849  501.6993    0.0  0.0      38.679210               0.5\n",
      "4  462766    773607  503.5620    0.0  0.0      58.422310               1.1\n"
     ]
    }
   ],
   "source": [
    "binny.bin(n=5)\n",
    "# binny.showBins(n=5)"
   ]
  },
  {
   "cell_type": "code",
   "execution_count": null,
   "metadata": {},
   "outputs": [],
   "source": []
  },
  {
   "cell_type": "code",
   "execution_count": null,
   "metadata": {},
   "outputs": [],
   "source": []
  }
 ],
 "metadata": {
  "kernelspec": {
   "display_name": "cosiURAP",
   "language": "python",
   "name": "python3"
  },
  "language_info": {
   "codemirror_mode": {
    "name": "ipython",
    "version": 3
   },
   "file_extension": ".py",
   "mimetype": "text/x-python",
   "name": "python",
   "nbconvert_exporter": "python",
   "pygments_lexer": "ipython3",
   "version": "3.10.4"
  },
  "orig_nbformat": 4
 },
 "nbformat": 4,
 "nbformat_minor": 2
}
